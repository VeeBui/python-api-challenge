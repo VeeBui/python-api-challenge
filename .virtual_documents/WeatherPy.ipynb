


# Dependencies and Setup
import matplotlib.pyplot as plt
import pandas as pd
import numpy as np
import requests
import time
import datetime  
from scipy.stats import linregress

# Impor the OpenWeatherMap API key
from api_keys import weather_api_key

# Import citipy to determine the cities based on latitude and longitude
from citipy import citipy





# Empty list for holding the latitude and longitude combinations
lat_lngs = []

# Empty list for holding the cities names
cities = []

# Range of latitudes and longitudes
lat_range = (-90, 90)
lng_range = (-180, 180)

# Create a set of random lat and lng combinations
lats = np.random.uniform(lat_range[0], lat_range[1], size=1500)
lngs = np.random.uniform(lng_range[0], lng_range[1], size=1500)
lat_lngs = zip(lats, lngs)

# Identify nearest city for each lat, lng combination
for lat_lng in lat_lngs:
    city = citipy.nearest_city(lat_lng[0], lat_lng[1]).city_name
    
    # If the city is unique, then add it to a our cities list
    if city not in cities:
        cities.append(city)

# Print the city count to confirm sufficient count
print(f"Number of cities in the list: {len(cities)}")








# Set the API base URL
url = f"http://api.openweathermap.org/data/2.5/weather?appid={weather_api_key}&q="

# Define an empty list to fetch the weather data for each city
city_data = []

# Print to logger
print("Beginning Data Retrieval     ")
print("-----------------------------")

# Create counters
record_count = 1
set_count = 1

# Loop through all the cities in our list to fetch weather data
for i, city in enumerate(cities):
        
    # Group cities in sets of 50 for logging purposes
    if (i % 50 == 0 and i >= 50):
        set_count += 1
        record_count = 0

    # Create endpoint URL with each city
    city_url = f"{url}{city}"
    
    # Log the url, record, and set numbers
    print("Processing Record %s of Set %s | %s" % (record_count, set_count, city))

    # Add 1 to the record count
    record_count += 1

    # Run an API request for each of the cities
    try:
        # Parse the JSON and retrieve data
        city_weather = requests.get(city_url).json()

        # Parse out latitude, longitude, max temp, humidity, cloudiness, wind speed, country, and date
        city_lat = city_weather["coord"]["lat"]
        city_lng = city_weather["coord"]["lon"]
        city_max_temp = city_weather["main"]["temp_max"] - 273.15 # convert from K to C
        city_humidity = city_weather["main"]["humidity"]
        city_clouds = city_weather["clouds"]["all"]
        city_wind = city_weather["wind"]["speed"]
        city_country = city_weather["sys"]["country"]
        city_date = city_weather["dt"]

        # Append the City information into city_data list
        city_data.append({"City": city, 
                          "Lat": city_lat, 
                          "Lng": city_lng, 
                          "Max Temp": city_max_temp,
                          "Humidity": city_humidity,
                          "Cloudiness": city_clouds,
                          "Wind Speed": city_wind,
                          "Country": city_country,
                          "Date": datetime.datetime.fromtimestamp(city_date).strftime("%Y-%m-%d") })
        # DateTime code found from: https://www.javatpoint.com/python-epoch-to-datetime

    # If an error is experienced, skip the city
    except:
        print("City not found. Skipping...")
        pass
              
# Indicate that Data Loading is complete 
print("-----------------------------")
print("Data Retrieval Complete      ")
print("-----------------------------")


# Convert the cities weather data into a Pandas DataFrame
city_data_df = pd.DataFrame(city_data)

# Show Record Count
city_data_df.count()


# Display sample data
city_data_df.head()


# Export the City_Data into a csv
city_data_df.to_csv("output_data/cities.csv", index_label="City_ID")


# Read saved data
city_data_df = pd.read_csv("output_data/cities.csv", index_col="City_ID")

# Display sample data
city_data_df.head()





# Build scatter plot for latitude vs. temperature
city_data_df.plot.scatter(x="Lat",y="Max Temp",s=40,edgecolor="k")

# Incorporate the other graph properties
plt.xlabel("Latitude")
plt.ylabel("Max Temperature (C)")
plt.grid(True)

date = city_data_df["Date"].iloc[0]
plt.title(f"City Latitude vs. Max Temperature ({date})")

# Save the figure
plt.savefig("output_data/Fig1.png")

# Show plot
plt.show()





# Build the scatter plots for latitude vs. humidity
city_data_df.plot.scatter(x="Lat",y="Humidity",s=40,edgecolor="k")

# Incorporate the other graph properties
plt.xlabel("Latitude")
plt.ylabel("Humidity (%)")
plt.grid(True)

date = city_data_df["Date"].iloc[0]
plt.title(f"City Latitude vs. Temperature ({date})")

# Save the figure
plt.savefig("output_data/Fig2.png")

# Show plot
plt.show()





# Build the scatter plots for latitude vs. cloudiness
city_data_df.plot.scatter(x="Lat",y="Cloudiness",s=40,edgecolor="k")

# Incorporate the other graph properties
plt.xlabel("Latitude")
plt.ylabel("Cloudiness (%)")
plt.grid(True)

date = city_data_df["Date"].iloc[0]
plt.title(f"City Latitude vs. Cloudiness ({date})")

# Save the figure
plt.savefig("output_data/Fig3.png")

# Show plot
plt.show()





# Build the scatter plots for latitude vs. wind speed
city_data_df.plot.scatter(x="Lat",y="Wind Speed",s=40,edgecolor="k")

# Incorporate the other graph properties
plt.xlabel("Latitude")
plt.ylabel("Wind Speed (m/s)")
plt.grid(True)

date = city_data_df["Date"].iloc[0]
plt.title(f"City Latitude vs. Wind Speed ({date})")

# Save the figure
plt.savefig("output_data/Fig4.png")

# Show plot
plt.show()





# Define a function to create Linear Regression plots
def lin_reg_plot(df, dep_var):
    # Converting to floats
    x_values = df["Lat"].astype("float")
    y_values = df[dep_var].astype("float")
    
    # Run linear regression
    (slope, intercept, rvalue, pvalue, stderr) = linregress(x_values, y_values)
    regress_values = x_values * slope + intercept
    line_eq = "y = " + str(round(slope,2)) + "x + " + str(round(intercept,2))
    
    # Plot scatter plot
    plt.scatter(x_values,y_values,s=40)
    
    # Plot regression line
    plt.plot(x_values,regress_values,"r-")
    
    # Incorporate the other graph properties
    plt.xlabel("Latitude")
    plt.grid(True)
    
    # Print r square value
    print(f"The r-value is: {rvalue}")
    return line_eq



# Create a DataFrame with the Northern Hemisphere data (Latitude >= 0)
northern_hemi_df = city_data_df[city_data_df["Lat"] > 0]

# Display sample data
northern_hemi_df.head()


# Create a DataFrame with the Southern Hemisphere data (Latitude < 0)
southern_hemi_df = city_data_df[city_data_df["Lat"] < 0]

# Display sample data
southern_hemi_df.head()





# Linear regression on Northern Hemisphere
line_eq = lin_reg_plot(northern_hemi_df, "Max Temp")

# Annotate the regression
plt.annotate(line_eq,(10,-10),fontsize=15,color="red")

# Incorporate the other graph properties
plt.ylabel("Max Temperature (C)")
plt.title("City Latitude vs. Max Temperature (Northern Hemisphere)")

# Save the figure
plt.savefig("output_data/Fig5.png")

# Show plot
plt.show()



# Linear regression on Southern Hemisphere
line_eq = lin_reg_plot(southern_hemi_df, "Max Temp")

# Annotate the regression
plt.annotate(line_eq,(-50,30),fontsize=15,color="red")

# Incorporate the other graph properties
plt.ylabel("Max Temperature (C)")
plt.title("City Latitude vs. Max Temperature (Southern Hemisphere)")

# Save the figure
plt.savefig("output_data/Fig6.png")

# Show plot
plt.show()









# Northern Hemisphere
line_eq = lin_reg_plot(northern_hemi_df, "Humidity")

# Annotate the regression
plt.annotate(line_eq,(10,30),fontsize=15,color="red")

# Incorporate the other graph properties
plt.ylabel("Humidity (%)")
plt.title("City Latitude vs. Humidity (Northern Hemisphere)")

# Save the figure
plt.savefig("output_data/Fig7.png")

# Show plot
plt.show()



# Southern Hemisphere
line_eq = lin_reg_plot(southern_hemi_df, "Humidity")

# Annotate the regression
plt.annotate(line_eq,(-50,40),fontsize=15,color="red")

# Incorporate the other graph properties
plt.ylabel("Humidity (%)")
plt.title("City Latitude vs. Humidity (Southern Hemisphere)")

# Save the figure
plt.savefig("output_data/Fig8.png")

# Show plot
plt.show()









# Northern Hemisphere
line_eq = lin_reg_plot(northern_hemi_df, "Cloudiness")

# Annotate the regression
plt.annotate(line_eq,(10,10),fontsize=15,color="red")

# Incorporate the other graph properties
plt.ylabel("Cloudiness (%)")
plt.title("City Latitude vs. Cloudiness (Northern Hemisphere)")

# Save the figure
plt.savefig("output_data/Fig9.png")

# Show plot
plt.show()



# Southern Hemisphere
line_eq = lin_reg_plot(southern_hemi_df, "Cloudiness")

# Annotate the regression
plt.annotate(line_eq,(-50,10),fontsize=15,color="red")

# Incorporate the other graph properties
plt.ylabel("Cloudiness (%)")
plt.title("City Latitude vs. Cloudiness (Southern Hemisphere)")

# Save the figure
plt.savefig("output_data/Fig10.png")

# Show plot
plt.show()









# Northern Hemisphere
line_eq = lin_reg_plot(northern_hemi_df, "Wind Speed")

# Annotate the regression
plt.annotate(line_eq,(10,10),fontsize=15,color="red")

# Incorporate the other graph properties
plt.ylabel("Wind Speed (m/s)")
plt.title("City Latitude vs. Wind Speed (Northern Hemisphere)")

# Save the figure
plt.savefig("output_data/Fig11.png")

# Show plot
plt.show()



# Southern Hemisphere
line_eq = lin_reg_plot(southern_hemi_df, "Wind Speed")

# Annotate the regression
plt.annotate(line_eq,(-50,10),fontsize=15,color="red")

# Incorporate the other graph properties
plt.ylabel("Wind Speed (m/s)")
plt.title("City Latitude vs. Wind Speed (Southern Hemisphere)")

# Save the figure
plt.savefig("output_data/Fig12.png")

# Show plot
plt.show()







